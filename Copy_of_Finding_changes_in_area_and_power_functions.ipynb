{
  "nbformat": 4,
  "nbformat_minor": 0,
  "metadata": {
    "colab": {
      "name": "Copy of Finding changes in area and power functions.ipynb",
      "provenance": [],
      "collapsed_sections": [],
      "include_colab_link": true
    },
    "kernelspec": {
      "name": "python3",
      "display_name": "Python 3"
    },
    "language_info": {
      "name": "python"
    }
  },
  "cells": [
    {
      "cell_type": "markdown",
      "metadata": {
        "id": "view-in-github",
        "colab_type": "text"
      },
      "source": [
        "<a href=\"https://colab.research.google.com/github/j-ahles/s-22-math212/blob/main/Copy_of_Finding_changes_in_area_and_power_functions.ipynb\" target=\"_parent\"><img src=\"https://colab.research.google.com/assets/colab-badge.svg\" alt=\"Open In Colab\"/></a>"
      ]
    },
    {
      "cell_type": "markdown",
      "metadata": {
        "id": "qQcuOUtvYdma"
      },
      "source": [
        "# Changes in area and power functions\n",
        "\n",
        "The area of a square is given by \n",
        "\n",
        "$$ A = s^2$$\n",
        "\n",
        "where $s$ is the side length measured in $meters$.  In this worksheet, we find the relationship between the change in area, $dA$, when the side length increases by a small amount $ds$.  That is, we will find a relationship between $dA$, $s$, and $ds$.\n",
        "\n",
        "To find this relationship, we will choose several different side lengths $s$ and the area $A = s^2$.  Then, we will increase the side length by a small amount, say $ds = 0.2$ inches.  We'll compute the area of this new square, which will be $A + dA = (s + ds)^2$.  We'll subtract off the original area, leaving just the change in area $dA$, and use Desmos to find the relationship between $dA$, $s$, and $ds$."
      ]
    },
    {
      "cell_type": "markdown",
      "metadata": {
        "id": "DVeRfuIXZGgu"
      },
      "source": [
        "# Area and Side Lengths\n",
        "\n",
        "\n",
        "Generate data for the change in area.  To do this:\n",
        "\n",
        "  1.  Generate some sample side lengths, and calculate the area (Use \"=B5^2\")\n",
        "  2.  Add $ds$ to the side length in a new column, and calculat the new area.\n",
        "  3.  Make a final tagle showing the side length $s$ and the change in area, $dA$\n",
        "  \n",
        "  The change in area, $dA$, is the difference between the original area and the new area.  In Cell I5, it should be \"=F5 - C5\".\n",
        "\n",
        "We'll use this basic spreadsheet for several different side lengths\n",
        "\n",
        "$$ ds = 0.2, \\hspace{1cm}  ds = 0.1, \\hspace{1cm}  ds = 0.05, \\hspace{1cm} ds = 0.01$$\n",
        "\n",
        "and, in homework, for several different functions\n",
        "\n",
        "$$ A = s^2, \\hspace{1cm}  V = s^3,\\hspace{1cm}    Q = s^7,\\hspace{1cm}    p = \\sqrt{s} = s^{0.5} $$"
      ]
    },
    {
      "cell_type": "code",
      "metadata": {
        "colab": {
          "base_uri": "https://localhost:8080/",
          "height": 622
        },
        "id": "bVnNOc5SZDa7",
        "outputId": "3d4fa4f3-94ed-47c1-a9c1-7eb62ff93a19"
      },
      "source": [
        "from IPython.display import IFrame\n",
        "IFrame(src=\"https://docs.google.com/spreadsheets/d/1KmPk1ININ0pns_ndFF_tlJidLC9A6GWXZl1JMeJNFWE/\", width=1200, height=600)"
      ],
      "execution_count": 5,
      "outputs": [
        {
          "output_type": "execute_result",
          "data": {
            "text/html": [
              "\n",
              "        <iframe\n",
              "            width=\"1200\"\n",
              "            height=\"600\"\n",
              "            src=\"https://docs.google.com/spreadsheets/d/1KmPk1ININ0pns_ndFF_tlJidLC9A6GWXZl1JMeJNFWE/\"\n",
              "            frameborder=\"0\"\n",
              "            allowfullscreen\n",
              "        ></iframe>\n",
              "        "
            ],
            "text/plain": [
              "<IPython.lib.display.IFrame at 0x7f0a11565050>"
            ]
          },
          "metadata": {},
          "execution_count": 5
        }
      ]
    },
    {
      "cell_type": "code",
      "metadata": {
        "colab": {
          "base_uri": "https://localhost:8080/",
          "height": 896
        },
        "id": "olAAeWDYYXan",
        "outputId": "5e69672f-2efb-4eb0-e71c-e0c989eeb895"
      },
      "source": [
        "from IPython.display import IFrame\n",
        "IFrame(src=\"https://www.desmos.com/calculator/gc4svnkiwh\", width=1200, height=875)"
      ],
      "execution_count": null,
      "outputs": [
        {
          "output_type": "execute_result",
          "data": {
            "text/html": [
              "\n",
              "        <iframe\n",
              "            width=\"1200\"\n",
              "            height=\"875\"\n",
              "            src=\"https://www.desmos.com/calculator/gc4svnkiwh\"\n",
              "            frameborder=\"0\"\n",
              "            allowfullscreen\n",
              "        ></iframe>\n",
              "        "
            ],
            "text/plain": [
              "<IPython.lib.display.IFrame at 0x7f65e47ff890>"
            ]
          },
          "metadata": {},
          "execution_count": 6
        }
      ]
    },
    {
      "cell_type": "markdown",
      "source": [
        "#Record of data:\n",
        "\n",
        "We'll make a record of our data in the following table.  \n",
        "\n",
        "To add your data, double click your mouse in the cell, and then either modify the existing table row, or add a new table row.  Use | to separate columns, a new line for a new row, and --- to put a horizontal line in the table."
      ],
      "metadata": {
        "id": "Fj45BjD34gMw"
      }
    },
    {
      "cell_type": "markdown",
      "source": [
        "## Relationship between $dA$, $s$, and $ds$ for the area of a square\n",
        "\n",
        "To find this relationship, we'll repeat this experiment using several different values of $ds$.  To do this, we'll adjust the spreadsheet, copy and paste the data into Desmos, and record the new results in this table.\n",
        "\n",
        "We'll write the equation for $dA$ in form $dA = (  \\_\\_\\_\\_\\_\\_\\_\\_  ) ( ds) $ that we found in Desmos.  This is a differential of area, $dA$.  (The derivative would be $dA / ds$.\n",
        "\n",
        "| Type of Data | $ds$  |    Equation for $dA$ $       |\n",
        "|--------------|-------|------------------------------|\n",
        "|  Experiment  | 0.2   | dA = ( 0.2 + 2 s ) ( 0.2)    |\n",
        "|  Experiment  | 0.1   | dA = ( 0.1 + 2 s ) ( 0.1)    |\n",
        "|  Experiment  | 0.05  | dA = ( 0.05 + 2 s ) ( 0.05)  |\n",
        "|  Experiment  | 0.01  | dA = ( 0.01 + 2 s ) ( 0.01)  |\n",
        "|--------------|-------|------------------------------|\n",
        "|Logical Guess:|  ds   |  dA = ( 0  + 2 s) ( ds )     |\n",
        "\n",
        "So, it appears that, since $A = s^2$, then:\n",
        "\n",
        "$$  dA = d(s^2) = (2s)(ds) $$"
      ],
      "metadata": {
        "id": "XHGN9DKM5HSO"
      }
    },
    {
      "cell_type": "markdown",
      "source": [
        "# Repeat the above experiments:\n",
        "\n",
        "We'll repeat the experiment above, as homework, for the following three functions.  Run the experiment using a step sizes of $ds = 0.2, ds = 0.1, ds = 0.05,$, and $ds = 0.01$.  Then, make a guess for the general relationship. Record your results in the tables below.\n",
        "\n",
        "1)  Volume, where $V = s^3$\n",
        "\n",
        "\n",
        "2)  A volume in $7$ dimensions, so $Q = s^7$\n",
        "\n",
        "\n",
        "\n",
        "3)  A square root function $p = \\sqrt{s}$, or $p = (s)^{0.5}$\n"
      ],
      "metadata": {
        "id": "mnPi3q6X7fUL"
      }
    },
    {
      "cell_type": "markdown",
      "source": [
        "# HW 1:  Relationship between $dV, s,$ and $ds$ for $V = s^3$\n",
        "\n",
        "To find this relationship, we'll repeat this experiment using several different values of $ds$.  To do this, we'll adjust the spreadsheet, copy and paste the data into Desmos, and record the new results in this table.\n",
        "\n",
        "We'll write the equation for $dV$ in form $dV = (  \\_\\_\\_\\_\\_\\_\\_\\_  ) ( ds) $ that we found in Desmos.  This is a differential of volume, $dV$.  (The derivative would be $dV / ds$.\n",
        "\n",
        "| Type of Data | $ds$ |    Equation for $dV$ $      |\n",
        "|--------------|------|-----------------------------|\n",
        "|  Experiment  | 0.2  | dV = (     ) ( 0.2)   |\n",
        "|  Experiment  | 0.1  | dV = (     ) ( 0.1)   |\n",
        "|  Experiment  | 0.05  | dV = (    ) ( 0.05)   |\n",
        "|  Experiment  | 0.01  | dV = (    ) ( 0.01)   |\n",
        "|--------------|-------|-----------------------------|\n",
        "|Logical Guess:|  ds   |  dV = (    ) ( ds )         |\n",
        "\n",
        "\n",
        "So, it appears that, since $V = s^3$, then:\n",
        "\n",
        "$$  dA = d(s^3) = (           )(ds) $$"
      ],
      "metadata": {
        "id": "fzn5stKc8UIl"
      }
    },
    {
      "cell_type": "markdown",
      "source": [
        "# HW 2:  Relationship between $dQ, s,$ and $ds$ for $Q = s^7$\n",
        "\n",
        "Repeate the same process.  We'll write the equation for $dQ$ in form $dQ = (  \\_\\_\\_\\_\\_\\_\\_\\_  ) ( ds) $ that we found in Desmos.\n",
        "\n",
        "| Type of Data | $ds$ |    Equation for $dQ$ $      |\n",
        "|--------------|------|-----------------------------|\n",
        "|  Experiment  | 0.2  | dQ = (      ) ( 0.2)   |\n",
        "|  Experiment  | 0.1  | dQ = (     ) ( 0.1)   |\n",
        "|  Experiment  | 0.05  | dQ = (    ) ( 0.05)   |\n",
        "|  Experiment  | 0.01  | dQ = (    ) ( 0.01)   |\n",
        "|--------------|-------|-----------------------------|\n",
        "|Logical Guess:|  ds   |  dQ = (    ) ( ds )         |\n",
        "\n",
        "\n",
        "So, it appears that, since $Q = s^7$, then:\n",
        "\n",
        "$$  dQ = d(s^7) = (           )(ds) $$"
      ],
      "metadata": {
        "id": "YSFNZnUu9IGe"
      }
    },
    {
      "cell_type": "markdown",
      "source": [
        "# HW 3:  Relationship between $dP, s,$ and $ds$ for $P = \\sqrt{s}$ or $P = s^{0.5}$\n",
        "\n",
        "Repeate the same process.  We'll write the equation for $dP$ in form $dP = (  \\_\\_\\_\\_\\_\\_\\_\\_  ) ( ds) $ that we found in Desmos.\n",
        "\n",
        "| Type of Data | $ds$ |    Equation for $dQ$ $      |\n",
        "|--------------|------|-----------------------------|\n",
        "|  Experiment  | 0.2  | dP = (      ) ( 0.2)   |\n",
        "|  Experiment  | 0.1  | dP = (     ) ( 0.1)   |\n",
        "|  Experiment  | 0.05  | dP = (       ) ( 0.05)   |\n",
        "|  Experiment  | 0.01  | dP = (       ) ( 0.01)   |\n",
        "|--------------|-------|-----------------------------|\n",
        "|Logical Guess:|  ds   |  dP = (    ) ( ds )         |\n",
        "\n",
        "\n",
        "So, it appears that, since $P = \\sqrt{s}$, or $P = s^{0.5}$, then:\n",
        "\n",
        "$$  dP = d(s^{0.5}) = (           )(ds) $$"
      ],
      "metadata": {
        "id": "B2r0Tnsr9gQR"
      }
    }
  ]
}