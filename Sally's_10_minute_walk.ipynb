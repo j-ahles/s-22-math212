{
  "nbformat": 4,
  "nbformat_minor": 0,
  "metadata": {
    "colab": {
      "name": "Copy of Sally's 10 minute walk.ipynb",
      "provenance": [],
      "include_colab_link": true
    },
    "kernelspec": {
      "name": "python3",
      "display_name": "Python 3"
    },
    "language_info": {
      "name": "python"
    }
  },
  "cells": [
    {
      "cell_type": "markdown",
      "metadata": {
        "id": "view-in-github",
        "colab_type": "text"
      },
      "source": [
        "<a href=\"https://colab.research.google.com/github/j-ahles/s-22-math212/blob/main/Sally's_10_minute_walk.ipynb\" target=\"_parent\"><img src=\"https://colab.research.google.com/assets/colab-badge.svg\" alt=\"Open In Colab\"/></a>"
      ]
    },
    {
      "cell_type": "markdown",
      "source": [
        "# Sally's 10 minute walk\n",
        "\n",
        "Sally goes on a 10 minute walk, having left her house 5 minutes ago.  If $p = p(t)$ is her position, in meters, at time $t$, measured in minutes, then her velocity\n",
        "\n",
        "$$ v = v(t) = \\frac{dp}{dt}$$\n",
        "\n",
        "is given in meters per minute, $\\frac{m}{min}$.\n",
        "\n",
        "In this activity, we will generate estimates for Sally's total displacement using both Desmos, with sum notation, and Google Sheets, using function notation.  In either case, we are working with the idea\n",
        "\n",
        "$$ \\textrm{Change in position} = \\sum \\frac{dp}{dt}^\\star dt $$"
      ],
      "metadata": {
        "id": "Cov5VjH-dcE2"
      }
    },
    {
      "cell_type": "markdown",
      "source": [
        "# Computing the Total Change in Position with Desmos"
      ],
      "metadata": {
        "id": "9GtGeB1vnwfq"
      }
    },
    {
      "cell_type": "code",
      "source": [
        "Desmos_URL = \"https://www.desmos.com/calculator/gvp8tm2coa\"\n",
        "#Copy the url above and paste into a new window, then type your results below.\n",
        "#Or, remove the # signs on the two lines below to include the Desmos sheet here:\n",
        "#from IPython.display import IFrame\n",
        "#IFrame(src=Desmos_URL, width=1200, height=575)"
      ],
      "metadata": {
        "id": "P2XTrgfkemOb"
      },
      "execution_count": null,
      "outputs": []
    },
    {
      "cell_type": "markdown",
      "source": [
        "## Q1:  Provide the sum giving an Left Hand Sum with intervals of width $dt = 0.25$\n",
        "\n",
        "$$ \\textrm{Change in Position} = \\sum_{n=0}^{39} \\frac{v(-5 + \\frac{n}{4})}{4}$$\n",
        "\n",
        "This sum had a value of\n",
        "\n",
        "$$ \\textrm{Change in Position } =  58.38 feet$$\n",
        "\n"
      ],
      "metadata": {
        "id": "CMzccy3YlBbF"
      }
    },
    {
      "cell_type": "markdown",
      "source": [
        "## Q2:  Provide the sum giving an Right Hand Sum with intervals of width $dt = 0.25$\n",
        "\n",
        "$$ \\textrm{Change in Position} = \\sum_{n=1}^{40} \\frac{v(-5 + \\frac{n}{4})}{4} $$\n",
        "\n",
        "This sum had a value of\n",
        "\n",
        "$$ \\textrm{Change in Position } = 57.139 feet$$\n",
        "\n"
      ],
      "metadata": {
        "id": "D85BAJhJlkQI"
      }
    },
    {
      "cell_type": "markdown",
      "source": [
        "## Q3: Provide the sum giving an midpoint Sum with intervals of width $dt = 0.25$\n",
        "\n",
        "$$ \\textrm{Change in Position} = \\sum_{n=start}^{n=end} v(-5 + n) \\cdot dt$$\n",
        "\n",
        "This sum had a value of\n",
        "\n",
        "$$ \\textrm{Change in Position } = 125 feet$$\n"
      ],
      "metadata": {
        "id": "9vOCRGPInboX"
      }
    },
    {
      "cell_type": "markdown",
      "source": [
        "# Computing her Change in Position using Sheets\n",
        "\n",
        "We'll also practice computing Sally's total change in position using a spreadsheet.  The underlying skill is the same - but the implementation is a bit different.  We'll work through the Upper Sum and the Right-hand Sum worksheets.  Then, you'll be asked to find Sally's total change in position using two of the following methods:\n",
        "\n",
        "Choose one:    \n",
        "  1. Left-hand Sum\n",
        "  2. Lower Sum\n",
        "\n",
        "Choose one:    \n",
        "  3. Trapezoid (Average) Sum           \n",
        "  4. Midpoint Sum\n"
      ],
      "metadata": {
        "id": "oU8Dpki6nsss"
      }
    },
    {
      "cell_type": "code",
      "metadata": {
        "id": "bVnNOc5SZDa7"
      },
      "source": [
        "sheets_URL = \"https://docs.google.com/spreadsheets/d/1LtaRMR1gtoqBCA31r0gNbE8Mr6sCxfli4vSRKMVA9HY/edit?usp=sharing\"\n",
        "#Copy the link above and paste into a new window.\n",
        "#  Then, make your own copy of it, and paste the link to that page here:\n",
        "my_sheet_URL = \"https://docs.google.com/spreadsheets/d/1UbuAgUeHSUDecQAEl_rpbovoVT-NsIxSTMBZNRKAx8o/edit?usp=sharing\"\n",
        "# It is likely easier to work in that separate window tab, rather than here:\n",
        "#from IPython.display import IFrame\n",
        "#IFrame(src=\"https://docs.google.com/spreadsheets/d/1KJhCJxpI9LxbX_pOMVGhD3X1deoWP_GBq9UsKyIinR0/edit?usp=sharing\", width=800, height=375)"
      ],
      "execution_count": null,
      "outputs": []
    },
    {
      "cell_type": "markdown",
      "source": [
        "##Upper Sum\n",
        "\n",
        "Sally's change in position for the 10 seconds, from $t = -5$ seconds to $t = 5$ seconds, is predicted to be:\n",
        "\n",
        "|  Step Size |    Change in Position  |\n",
        "|------------|------------------------|\n",
        "|  0.5 sec   |               |\n",
        "|  0.2 sec   |               |\n",
        "|  0.05 sec  |               |\n",
        "|------------|---------------|\n",
        "\n",
        "Based on this information, where do you think Sally' finished compared to her starting point?\n"
      ],
      "metadata": {
        "id": "svM80QoyG3X6"
      }
    },
    {
      "cell_type": "markdown",
      "source": [
        "##Right-hand Sum\n",
        "\n",
        "Sally's change in position for the 10 seconds, from $t = -5$ seconds to $t = 5$ seconds, is predicted to be:\n",
        "\n",
        "|  Step Size |    Change in Position  |\n",
        "|------------|------------------------|\n",
        "|  0.5 sec   |               |\n",
        "|  0.2 sec   |               |\n",
        "|  0.05 sec  |               |\n",
        "|------------|---------------|\n",
        "\n",
        "Based on this information, where do you think Sally' finished compared to her starting point?\n"
      ],
      "metadata": {
        "id": "IdvTreLXHiAr"
      }
    },
    {
      "cell_type": "markdown",
      "source": [
        "##Method one:  *Fill this in*\n",
        "\n",
        "Sally's change in position for the 10 seconds, from $t = -5$ seconds to $t = 5$ seconds, is predicted to be:\n",
        "\n",
        "|  Step Size |    Change in Position  |\n",
        "|------------|------------------------|\n",
        "|  0.5 sec   |               |\n",
        "|  0.2 sec   |               |\n",
        "|  0.05 sec  |               |\n",
        "|------------|---------------|\n",
        "\n",
        "Based on this information, where do you think Sally' finished compared to her starting point?\n"
      ],
      "metadata": {
        "id": "UFRkQjmLHmRI"
      }
    },
    {
      "cell_type": "markdown",
      "source": [
        "##Method two:  *Fill this in*\n",
        "\n",
        "Sally's change in position for the 10 seconds, from $t = -5$ seconds to $t = 5$ seconds, is predicted to be:\n",
        "\n",
        "|  Step Size |    Change in Position  |\n",
        "|------------|------------------------|\n",
        "|  0.5 sec   |               |\n",
        "|  0.2 sec   |               |\n",
        "|  0.05 sec  |               |\n",
        "|------------|---------------|\n",
        "\n",
        "Based on this information, where do you think Sally' finished compared to her starting point?\n"
      ],
      "metadata": {
        "id": "yNDpVJaJHsKM"
      }
    },
    {
      "cell_type": "markdown",
      "source": [
        "## Extend one of your methods until there is no change.\n",
        "\n",
        "Extend one of your methods, using smaller and smaller step sizes until there is *no change* in the final change in position.  \n",
        "\n",
        "[ Here, *no change* is not 0.  Let's make it a very small difference between one estimation and the next, say $0.0005$ meters.   ]\n",
        "\n",
        "Provide the two time steps and the resulting estimate of her change in position:\n",
        "\n",
        "|  Step Size    |  Change in Position  |\n",
        "|---------------|----------------------|\n",
        "|  dt = ...     |              |\n",
        "|  dt = ...     |              |\n",
        "|---------------|----------------------|"
      ],
      "metadata": {
        "id": "p4iiL1XfH73W"
      }
    }
  ]
}