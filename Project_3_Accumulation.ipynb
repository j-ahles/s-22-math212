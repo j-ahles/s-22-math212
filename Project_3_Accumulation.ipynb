{
  "nbformat": 4,
  "nbformat_minor": 0,
  "metadata": {
    "colab": {
      "name": "Project 3 - Accumulation.ipynb",
      "provenance": [],
      "include_colab_link": true
    },
    "kernelspec": {
      "name": "python3",
      "display_name": "Python 3"
    },
    "language_info": {
      "name": "python"
    }
  },
  "cells": [
    {
      "cell_type": "markdown",
      "metadata": {
        "id": "view-in-github",
        "colab_type": "text"
      },
      "source": [
        "<a href=\"https://colab.research.google.com/github/j-ahles/s-22-math212/blob/main/Project_3_Accumulation.ipynb\" target=\"_parent\"><img src=\"https://colab.research.google.com/assets/colab-badge.svg\" alt=\"Open In Colab\"/></a>"
      ]
    },
    {
      "cell_type": "markdown",
      "source": [
        "#Project 3:  Total mass of chocolate on a pretzel stick\n",
        "\n",
        "A pretzel stick extending from\n",
        "\n",
        "$$  x = 0 \\, \\textrm{cm to } x = 24 \\, \\textrm{cm} $$\n",
        "\n",
        "is filled with chocolate.  The density of chocolate is given by\n",
        "\n",
        "$$ \\rho (x) = \\frac{ c_1 }{ c_2 + l \\cos \\left( c_3 x \\right) } $$\n",
        "\n",
        "The density of chocoate has units of $\\frac{g}{cm}$ and  varies due to temperature differences over the length of the pretzel stick.\n",
        "\n",
        "To simplify the problem, we'll model the thin pretzel stick as a 1-dimensional quantity - that is, we'll only worry about it's length, not its height or width."
      ],
      "metadata": {
        "id": "KeJFICserqUA"
      }
    },
    {
      "cell_type": "markdown",
      "source": [
        "##1.  Modeling the chocolate density\n",
        "\n",
        "The chocolate density reaches a maximum of density of $4 \\frac{g}{cm}$ at both $x = 6 \\, $ cm and $x  = 18 \\, $ cm, and a minimum density of $\\frac{1}{2} \\, \\frac{g}{cm} $ at $x = 12 \\, $ cm.  \n",
        "\n",
        "Question 1:  Using Desmos, determine the constants $c_1$, $c_2$, and $c_3$ for your particular density function $\\rho(x)$.  Set $l$ to the number of letters in your last name.  For example, for my last name, Wangberg, I'd use $l = 8$.\n",
        "\n",
        "\\\\\n",
        "\n",
        "$$\\textrm{ Last Name: } \\underline{\\hspace{2in}}  \\hspace{2cm}  n = \\underline{\\hspace{1in}} $$\n",
        "\n",
        "\\\\\n",
        "\n",
        "\\\\\n",
        "\n",
        "$$  c_1 = \\underline{\\hspace{1in}} \\hspace{2cm}\n",
        "c_2 = \\underline{\\hspace{1in}} \\hspace{2cm}\n",
        "c_3 = \\underline{\\hspace{1in}}\n",
        "$$\n",
        "\n",
        "\n",
        "FOr this problem, be sure to print out (or paste below) a screenshot of your Desmos sheet showing (a) your table, (b) a graph with the three known density points, and (c) the curve fit to your data.  You should get an *exact* fit.\n",
        "\n"
      ],
      "metadata": {
        "id": "F0agy3SBuKK3"
      }
    },
    {
      "cell_type": "code",
      "source": [
        "Desmos_URL = \"https://www.desmos.com/calculator/jo9pzsny9j\"\n",
        "#Copy the url above and paste into a new window, then type your results below.\n",
        "#Or, remove the # signs on the two lines below to include the Desmos sheet here:\n",
        "#from IPython.display import IFrame\n",
        "#IFrame(src=Desmos_URL, width=1200, height=575)"
      ],
      "metadata": {
        "id": "N9FnmpP9bnLW"
      },
      "execution_count": null,
      "outputs": []
    },
    {
      "cell_type": "markdown",
      "source": [
        "<< Paste a screenshot of your desmos sheet in the next cell >>"
      ],
      "metadata": {
        "id": "LrrIQR8WfKvJ"
      }
    },
    {
      "cell_type": "markdown",
      "source": [
        ""
      ],
      "metadata": {
        "id": "61zsTxdYfPP-"
      }
    },
    {
      "cell_type": "markdown",
      "source": [
        "## Upper and Lower Estimates for $n=1, 2,$ and $n=4$ intervals\n",
        "\n",
        "If we use $n = 1$ interval, we find the upper sum estimate for the mass of chocolate inside the Pretzel Stick would be\n",
        "\n",
        "$$ 96 \\, \\textrm{ grams of chocolate. }$$\n",
        "\n",
        "The lower sum estimate for the mass of chocolate would be\n",
        "\n",
        "$$ 12 \\, \\textrm{ grams of chocolate. }$$\n",
        "\n",
        "Find the upper and lower sum estimates using $n = 2$, $n=3$, and $n = 4$ intervals.\n",
        "\n",
        "\n",
        "| n | width of each piece | Upper sum estimate | lower sum estimate |\n",
        "|---|---------------------|--------------------|--------------------|\n",
        "| 1 |  (24-0)/1 = 24cm    |      96 grams      |       12 grams     |\n",
        "| 2 |                     |                    |                    |\n",
        "| 3 |                     |                    |                    |\n",
        "| 4 |                     |                    |                    |\n",
        "\n",
        "\n",
        "Do you expect this pattern to also occur if the pretzel stick was broken into $n = 6$ or $n = 8$ subintervals?  Explain."
      ],
      "metadata": {
        "id": "tjZsggYZ2QZT"
      }
    },
    {
      "cell_type": "markdown",
      "source": [
        "# Better Estimates\n",
        "\n",
        "You'll use Desmos or Google Sheets to get better and better approximations to the total mass of chocolate in the pretzel stick.\n",
        "\n",
        "How many steps do you need to use before the difference between the upper and lower sum is less than $0.33$ grams?\n",
        "\n",
        "Fill in the table either here or on the accompanying worksheet.  Be sure to print off your Desmos activity or your Google Sheet that you used to generate your data."
      ],
      "metadata": {
        "id": "Kxj_mFDf4_O1"
      }
    },
    {
      "cell_type": "code",
      "source": [
        "sheets_URL = \"https://docs.google.com/spreadsheets/d/1jtgiaId4ZhtBB4DmL7qZGXipoN3Rw5d7G6jZ7v2lPE4/edit?usp=sharing\"\n",
        "#Copy the link above and paste into a new window.\n",
        "#  Then, make your own copy of it, and paste the link to that page here:\n",
        "my_sheet_URL = \"\"\n",
        "# It is likely easier to work in that separate window tab, rather than here:\n",
        "#from IPython.display import IFrame\n",
        "#IFrame(src=\"https://docs.google.com/spreadsheets/d/1jtgiaId4ZhtBB4DmL7qZGXipoN3Rw5d7G6jZ7v2lPE4/edit?usp=sharing\", width=800, height=375)"
      ],
      "metadata": {
        "id": "Dzrf8fPxcuFu"
      },
      "execution_count": null,
      "outputs": []
    },
    {
      "cell_type": "markdown",
      "source": [
        "## Analaysis\n",
        "\n",
        "As you used more and more intervals, your Upper Sum Estimate stayed the same or shrunk.  Similarly, as you used more and more intervals, your Lower Sum Estimate always estimated the same amount, or more, mass of chocolate in the pretzel stick.\n",
        "\n",
        "Q:  Was this a coincidence?  Explain.\n",
        "\n",
        "\n",
        "Q:  Would the same phenomena have occurred if we'd have used a Left Hand Sum and a Right Hand Sum instead?  Justify your claim with data generated for a left-hand and a right-hand sum.\n"
      ],
      "metadata": {
        "id": "OECoyhI14JzR"
      }
    }
  ]
}